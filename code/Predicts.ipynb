{
 "cells": [
  {
   "cell_type": "markdown",
   "metadata": {},
   "source": [
    "## Libraries"
   ]
  },
  {
   "cell_type": "code",
   "execution_count": 68,
   "metadata": {},
   "outputs": [],
   "source": [
    "from selenium import webdriver\n",
    "from selenium.common.exceptions import NoSuchElementException\n",
    "import time\n",
    "import pandas as pd\n",
    "import numpy as np\n",
    "import matplotlib.pyplot as plt\n",
    "import statsmodels.api as sm\n",
    "import statsmodels.formula.api as smf\n",
    "from bs4 import BeautifulSoup\n",
    "import requests\n",
    "import re"
   ]
  },
  {
   "cell_type": "markdown",
   "metadata": {},
   "source": [
    "## Hey there, what data stats team would you like scrapping in soccerway?"
   ]
  },
  {
   "cell_type": "code",
   "execution_count": 65,
   "metadata": {},
   "outputs": [
    {
     "name": "stdout",
     "output_type": "stream",
     "text": [
      "Let's start with scrapping!\n",
      "\n"
     ]
    },
    {
     "name": "stdin",
     "output_type": "stream",
     "text": [
      "What's the home team? \n",
      " ibiza\n",
      "What's the away team? \n",
      " hercules\n"
     ]
    }
   ],
   "source": [
    "url_soccer = 'https://es.soccerway.com/'\n",
    "\n",
    "def ask_player_for_teams(): #Player choose the topic thanks to dataframe   \n",
    "    print(\"Let's start scrapping Soccerway!\\n\")   \n",
    "    while True:\n",
    "        try:\n",
    "            home_team = input(str(\"What's the home team name? \\n\")).capitalize()\n",
    "            away_team = input(str(\"What's the away team name? \\n\")).capitalize()\n",
    "            break\n",
    "        except ValueError:\n",
    "            print(\"\\nUps... make sure to write a string! Please, write the topic again.\")\n",
    "    return home_team,away_team\n",
    "home_team,away_team = ask_player_for_teams()"
   ]
  },
  {
   "cell_type": "markdown",
   "metadata": {},
   "source": [
    "## Web Scrapping (get url_teams in SOCCERWAY) by Selenium"
   ]
  },
  {
   "cell_type": "code",
   "execution_count": 74,
   "metadata": {},
   "outputs": [
    {
     "name": "stdout",
     "output_type": "stream",
     "text": [
      "The name of the team Hercules is not correctly written or doesn't appears in the database of soccerway. Did you include the accent?\n"
     ]
    },
    {
     "ename": "TypeError",
     "evalue": "cannot unpack non-iterable NoneType object",
     "output_type": "error",
     "traceback": [
      "\u001b[1;31m---------------------------------------------------------------------------\u001b[0m",
      "\u001b[1;31mTypeError\u001b[0m                                 Traceback (most recent call last)",
      "\u001b[1;32m<ipython-input-74-89a67c5ad5bd>\u001b[0m in \u001b[0;36m<module>\u001b[1;34m\u001b[0m\n\u001b[0;32m     21\u001b[0m \u001b[1;33m\u001b[0m\u001b[0m\n\u001b[0;32m     22\u001b[0m \u001b[0murl_ibiza\u001b[0m\u001b[1;33m,\u001b[0m\u001b[0murl_ibiza_stats\u001b[0m\u001b[1;33m=\u001b[0m \u001b[0mget_url_team_soccerway\u001b[0m\u001b[1;33m(\u001b[0m\u001b[0murl_soccer\u001b[0m\u001b[1;33m,\u001b[0m \u001b[0mteam\u001b[0m\u001b[1;33m=\u001b[0m\u001b[0mhome_team\u001b[0m\u001b[1;33m)\u001b[0m\u001b[1;33m\u001b[0m\u001b[1;33m\u001b[0m\u001b[0m\n\u001b[1;32m---> 23\u001b[1;33m \u001b[0murl_hercules\u001b[0m\u001b[1;33m,\u001b[0m \u001b[0murl_hercules_stats\u001b[0m \u001b[1;33m=\u001b[0m \u001b[0mget_url_team_soccerway\u001b[0m\u001b[1;33m(\u001b[0m\u001b[0murl_soccer\u001b[0m\u001b[1;33m,\u001b[0m \u001b[0mteam\u001b[0m\u001b[1;33m=\u001b[0m\u001b[0maway_team\u001b[0m\u001b[1;33m)\u001b[0m\u001b[1;33m\u001b[0m\u001b[1;33m\u001b[0m\u001b[0m\n\u001b[0m",
      "\u001b[1;31mTypeError\u001b[0m: cannot unpack non-iterable NoneType object"
     ]
    }
   ],
   "source": [
    "url_soccer = 'https://es.soccerway.com/'\n",
    "\n",
    "def get_url_team_soccerway(url_soccer, team):\n",
    "    try:\n",
    "        path_to_chromedriver = 'chromedriver'\n",
    "        browser = webdriver.Chrome(executable_path = path_to_chromedriver)\n",
    "        browser.get(url_soccer)\n",
    "        browser.implicitly_wait(10)\n",
    "        time.sleep(2)\n",
    "        browser.find_element_by_xpath('//*[@id=\"qc-cmp2-ui\"]/div[2]/div/button[2]').click()\n",
    "        browser.find_element_by_xpath('//*[@id=\"search-input\"]').send_keys(str(team))\n",
    "        browser.find_element_by_css_selector(\"#search-input-submit\").click()\n",
    "        browser.find_element_by_xpath(u'//a[text()=\"'+str(team)+'\"]').click()\n",
    "        url_stats_players = browser.find_element_by_xpath(u'//a[text()=\"Plantilla\"]').get_attribute('href')\n",
    "        url_stats_goals_minutes = browser.find_element_by_xpath(u'//a[text()=\"Estadísticas\"]').get_attribute('href')\n",
    "        browser.delete_all_cookies()\n",
    "        browser.close()\n",
    "        return url_stats_players, url_stats_goals_minutes\n",
    "    except:\n",
    "        print(f\"The name of the team {team} is not correctly written or doesn't appears in the database of soccerway. Did you include the accent?\" )\n",
    "    \n",
    "url_ibiza,url_ibiza_stats= get_url_team_soccerway(url_soccer, team=home_team)  \n",
    "url_hercules, url_hercules_stats = get_url_team_soccerway(url_soccer, team=away_team)  "
   ]
  },
  {
   "cell_type": "markdown",
   "metadata": {},
   "source": [
    "## Web Scrapping (name,age, goals,total yellow cards, double card and red cards) by Selenium"
   ]
  },
  {
   "cell_type": "code",
   "execution_count": 58,
   "metadata": {},
   "outputs": [],
   "source": [
    "\n",
    "def dict_scrapping_team(url):\n",
    "    path_to_chromedriver = 'chromedriver'\n",
    "    browser = webdriver.Chrome(executable_path = path_to_chromedriver)\n",
    "    browser.get(url)\n",
    "    browser.implicitly_wait(10)\n",
    "    SMRtable = browser.find_element_by_xpath('//*[@id=\"page_team_1_block_team_squad_6-table\"]')\n",
    "    diccionario_scrapping = {'Nombre':[],'Edad':[],'Minutos jugados':[],'Goles':[],'Tarjetas amarillas':[],'Doble amarilla':[],'Tarjetas rojas':[]}\n",
    "    for i in range(30): #i choose 29 players manually looking up the page web  \n",
    "        for nombre in SMRtable.find_elements_by_xpath('//*[@id=\"page_team_1_block_team_squad_6-table\"]/tbody/tr['+str(i)+']/td[2]'):\n",
    "            diccionario_scrapping['Nombre'].append(nombre.text)\n",
    "            for edad in SMRtable.find_elements_by_xpath('//*[@id=\"page_team_1_block_team_squad_6-table\"]/tbody/tr['+str(i)+']/td[4]'):\n",
    "                diccionario_scrapping['Edad'].append(edad.text)\n",
    "                for minutos in SMRtable.find_elements_by_xpath('//*[@id=\"page_team_1_block_team_squad_6-table\"]/tbody/tr['+str(i)+']/td[6]'):\n",
    "                    diccionario_scrapping['Minutos jugados'].append(minutos.text)\n",
    "                    for gol in SMRtable.find_elements_by_xpath('//*[@id=\"page_team_1_block_team_squad_6-table\"]/tbody/tr['+str(i)+']/td[12]'):\n",
    "                        diccionario_scrapping['Goles'].append(gol.text)\n",
    "                        for ycard in SMRtable.find_elements_by_xpath('//*[@id=\"page_team_1_block_team_squad_6-table\"]/tbody/tr['+str(i)+']/td[13]'):\n",
    "                            diccionario_scrapping['Tarjetas amarillas'].append(ycard.text)                \n",
    "                            for doblecard in SMRtable.find_elements_by_xpath('//*[@id=\"page_team_1_block_team_squad_6-table\"]/tbody/tr['+str(i)+']/td[14]'):\n",
    "                                diccionario_scrapping['Doble amarilla'].append(doblecard.text)\n",
    "                                for rcard in SMRtable.find_elements_by_xpath('//*[@id=\"page_team_1_block_team_squad_6-table\"]/tbody/tr['+str(i)+']/td[15]'):\n",
    "                                    diccionario_scrapping['Tarjetas rojas'].append(rcard.text)\n",
    "    browser.close()\n",
    "    return diccionario_scrapping\n",
    "\n",
    "age_yellow_red_home_team = dict_scrapping_team(url = url_ibiza)\n",
    "age_yellow_red_away_team = dict_scrapping_team(url = url_hercules)\n",
    "\n",
    "\n"
   ]
  },
  {
   "cell_type": "markdown",
   "metadata": {},
   "source": [
    "## Web Scrapping (probability goal by minutes) by BeautyfoulSoup"
   ]
  },
  {
   "cell_type": "code",
   "execution_count": 59,
   "metadata": {},
   "outputs": [],
   "source": [
    "\n",
    "def lists_minutes_and_prob_goal(url):\n",
    "    agent = {\"User-Agent\":\"Mozilla/5.0\"}\n",
    "    source=requests.get(url, headers=agent)\n",
    "    soup = BeautifulSoup(source.content, \"html.parser\")\n",
    "    list_prob_goals= re.findall(\"(\\d+.[\\d])%\", str(soup.select(\"#charts script\")[0]))\n",
    "    list_minutes = re.findall('(\\d+-\\d+)', str(soup.select(\"#charts p\")))\n",
    "    return list_minutes,list_prob_goals\n",
    "\n",
    "list_minutes, list_prob_goals_hercules = lists_minutes_and_prob_goal(url =url_hercules_stats)\n",
    "list_minutes, list_prob_goals_ibiza = lists_minutes_and_prob_goal(url = url_ibiza_stats)\n",
    "#NOTE: soup.prettify #to observe much prittier the html code grabbed\n"
   ]
  },
  {
   "cell_type": "markdown",
   "metadata": {},
   "source": [
    "**Convert dict or lists to DF**"
   ]
  },
  {
   "cell_type": "code",
   "execution_count": 60,
   "metadata": {},
   "outputs": [],
   "source": [
    "age_yellow_red_home_team_df = pd.DataFrame(age_yellow_red_home_team)\n",
    "age_yellow_red_away_team_df = pd.DataFrame(age_yellow_red_away_team)\n",
    "\n",
    "minutes_prob_goal_DF = pd.DataFrame(data = {'prob_goal_Hercules':list_prob_goals_hercules, 'prob_goal_Ibiza':list_prob_goals_ibiza} , index = list_minutes)"
   ]
  },
  {
   "cell_type": "markdown",
   "metadata": {},
   "source": [
    "**Convert every column into float type**"
   ]
  },
  {
   "cell_type": "code",
   "execution_count": 61,
   "metadata": {},
   "outputs": [],
   "source": [
    "def pass_float(players_df_full):\n",
    "    for i in players_df_full.columns:\n",
    "        try:\n",
    "            players_df_full[i] = players_df_full[i].astype(float)\n",
    "        except ValueError:\n",
    "            pass\n",
    "    return players_df_full\n",
    "age_yellow_red_home_team_df = pass_float(age_yellow_red_home_team_df)\n",
    "age_yellow_red_away_team_df = pass_float(age_yellow_red_away_team_df)\n",
    "minutes_prob_goal_DF = pass_float(minutes_prob_goal_DF)\n"
   ]
  },
  {
   "cell_type": "code",
   "execution_count": 62,
   "metadata": {},
   "outputs": [
    {
     "data": {
      "text/plain": [
       "<matplotlib.axes._subplots.AxesSubplot at 0x2bf8b9fa408>"
      ]
     },
     "execution_count": 62,
     "metadata": {},
     "output_type": "execute_result"
    },
    {
     "data": {
      "image/png": "[encoded data removed]",
      "text/plain": [
       "<Figure size 432x288 with 1 Axes>"
      ]
     },
     "metadata": {
      "needs_background": "light"
     },
     "output_type": "display_data"
    }
   ],
   "source": [
    "minutes_prob_goal_DF.plot( kind = 'density')\n",
    "plt.savefig('../Technical_report/images/density_prob_score.png', dpi=None, bbox_inches=\"tight\") "
   ]
  },
  {
   "cell_type": "code",
   "execution_count": 16,
   "metadata": {},
   "outputs": [
    {
     "data": {
      "image/png": "[encoded data removed]",
      "text/plain": [
       "<Figure size 432x288 with 1 Axes>"
      ]
     },
     "metadata": {
      "needs_background": "light"
     },
     "output_type": "display_data"
    }
   ],
   "source": [
    "minutes_prob_goal_DF.plot(kind = 'bar')\n",
    "plt.savefig('../Technical_report/images/barplot_prob_score.png', dpi=None, bbox_inches=\"tight\") "
   ]
  },
  {
   "cell_type": "code",
   "execution_count": null,
   "metadata": {},
   "outputs": [],
   "source": [
    "minutes_prob_goal_DF.to_excel(\"../dataset/minutes_prob_goal.xlsx\",\n",
    "             sheet_name='both_team')\n",
    "age_yellow_red_home_team_df.to_excel(\"../dataset/cards_goals_home_team.xlsx\",\n",
    "             sheet_name='home_team')\n",
    "age_yellow_red_away_team_df.to_excel(\"../dataset/cards_goals_away_team.xlsx\",\n",
    "             sheet_name='away_team')"
   ]
  },
  {
   "cell_type": "markdown",
   "metadata": {},
   "source": [
    "**Concatanate 2 DF both teams for further exploration in Tableau**"
   ]
  },
  {
   "cell_type": "code",
   "execution_count": 13,
   "metadata": {},
   "outputs": [],
   "source": [
    "xls_home_team = pd.ExcelFile('../dataset/Home_team.xlsx')\n",
    "xls_away_team = pd.ExcelFile('../dataset/Away_team.xlsx')\n",
    "\n",
    "sheet1_away = xls_away_team.parse(0)\n",
    "sheet1_home = xls_home_team.parse(0)\n",
    "df1 = pd.DataFrame(sheet1_home)\n",
    "df2 = pd.DataFrame(sheet1_away)\n",
    "\n",
    "tableau = pd.concat([df1, df2])\n",
    "tableau.to_excel(\"../dataset/Report.xlsx\",\n",
    "             sheet_name='both_teams')"
   ]
  },
  {
   "cell_type": "markdown",
   "metadata": {},
   "source": [
    "## Regression linear between yellows card and minutes played : Home_team"
   ]
  },
  {
   "cell_type": "code",
   "execution_count": 14,
   "metadata": {},
   "outputs": [
    {
     "name": "stdout",
     "output_type": "stream",
     "text": [
      "                                 OLS Regression Results                                \n",
      "=======================================================================================\n",
      "Dep. Variable:           yellow_cards   R-squared (uncentered):                   0.404\n",
      "Model:                            OLS   Adj. R-squared (uncentered):              0.380\n",
      "Method:                 Least Squares   F-statistic:                              16.93\n",
      "Date:                Thu, 26 Nov 2020   Prob (F-statistic):                    0.000369\n",
      "Time:                        20:55:30   Log-Likelihood:                         -31.590\n",
      "No. Observations:                  26   AIC:                                      65.18\n",
      "Df Residuals:                      25   BIC:                                      66.44\n",
      "Df Model:                           1                                                  \n",
      "Covariance Type:            nonrobust                                                  \n",
      "==================================================================================\n",
      "                     coef    std err          t      P>|t|      [0.025      0.975]\n",
      "----------------------------------------------------------------------------------\n",
      "minutes_played     0.0027      0.001      4.114      0.000       0.001       0.004\n",
      "==============================================================================\n",
      "Omnibus:                        4.883   Durbin-Watson:                   1.956\n",
      "Prob(Omnibus):                  0.087   Jarque-Bera (JB):                3.606\n",
      "Skew:                           0.907   Prob(JB):                        0.165\n",
      "Kurtosis:                       3.191   Cond. No.                         1.00\n",
      "==============================================================================\n",
      "\n",
      "Warnings:\n",
      "[1] Standard Errors assume that the covariance matrix of the errors is correctly specified.\n"
     ]
    },
    {
     "data": {
      "image/png": "[encoded data removed]",
      "text/plain": [
       "<Figure size 432x288 with 1 Axes>"
      ]
     },
     "metadata": {
      "needs_background": "light"
     },
     "output_type": "display_data"
    },
    {
     "data": {
      "text/plain": [
       "<Figure size 432x288 with 0 Axes>"
      ]
     },
     "metadata": {},
     "output_type": "display_data"
    }
   ],
   "source": [
    "#Some made up data\n",
    "\n",
    "yellow_cards = age_yellow_red_home_team_df['Tarjetas amarillas'].values\n",
    "minutes_played= np.array(age_yellow_red_home_team_df['Minutos jugados'].values)\n",
    "\n",
    "#Set up dataframe\n",
    "minutes_model = pd.DataFrame()\n",
    "minutes_model = minutes_model.assign(minutes=minutes_played)\n",
    "minutes_model = minutes_model.assign(goals=yellow_cards)\n",
    "\n",
    "fig,ax=plt.subplots(num=1)\n",
    "ax.plot(minutes_played, yellow_cards, linestyle='none', marker= '.', markerSize= 12, color='black')\n",
    "ax.set_ylabel('Yellow cards')\n",
    "ax.set_xlabel('Minutes played')\n",
    "ax.spines['top'].set_visible(False)\n",
    "ax.spines['right'].set_visible(False)\n",
    "plt.xlim((0,750))\n",
    "plt.ylim((0,8))\n",
    "\n",
    "\n",
    "#Intercept\n",
    "a=0\n",
    "\n",
    "\n",
    "#Slope determined by linear regression\n",
    "model_fit=smf.ols(formula='yellow_cards ~ minutes_played -1 ', data=minutes_model).fit()\n",
    "print(model_fit.summary())        \n",
    "[b]=model_fit.params\n",
    "\n",
    "x=np.arange(800,step=0.1)\n",
    "y= a + b*x \n",
    "\n",
    "ax.plot(minutes_played, yellow_cards, linestyle='none', marker= '.', markerSize= 12, color='black')\n",
    "ax.plot(x, y, color='black')\n",
    "\n",
    "#Show distances to line\n",
    "for i,mp in enumerate(minutes_played):\n",
    "    ax.plot([mp,mp],[yellow_cards[i],a+b*mp], color='red')\n",
    "\n",
    "\n",
    "plt.show()\n",
    "plt.savefig('../Technical_report/images/r_line_home_team.png', dpi=None, bbox_inches=\"tight\")  \n"
   ]
  },
  {
   "cell_type": "markdown",
   "metadata": {},
   "source": [
    "##  Regression linear between yellows card and minutes played : Away_team"
   ]
  },
  {
   "cell_type": "code",
   "execution_count": 15,
   "metadata": {},
   "outputs": [
    {
     "name": "stdout",
     "output_type": "stream",
     "text": [
      "                                 OLS Regression Results                                \n",
      "=======================================================================================\n",
      "Dep. Variable:           yellow_cards   R-squared (uncentered):                   0.358\n",
      "Model:                            OLS   Adj. R-squared (uncentered):              0.333\n",
      "Method:                 Least Squares   F-statistic:                              14.49\n",
      "Date:                Thu, 26 Nov 2020   Prob (F-statistic):                    0.000772\n",
      "Time:                        20:55:48   Log-Likelihood:                         -32.822\n",
      "No. Observations:                  27   AIC:                                      67.64\n",
      "Df Residuals:                      26   BIC:                                      68.94\n",
      "Df Model:                           1                                                  \n",
      "Covariance Type:            nonrobust                                                  \n",
      "==================================================================================\n",
      "                     coef    std err          t      P>|t|      [0.025      0.975]\n",
      "----------------------------------------------------------------------------------\n",
      "minutes_played     0.0024      0.001      3.807      0.001       0.001       0.004\n",
      "==============================================================================\n",
      "Omnibus:                       13.298   Durbin-Watson:                   1.365\n",
      "Prob(Omnibus):                  0.001   Jarque-Bera (JB):               13.162\n",
      "Skew:                           1.309   Prob(JB):                      0.00139\n",
      "Kurtosis:                       5.202   Cond. No.                         1.00\n",
      "==============================================================================\n",
      "\n",
      "Warnings:\n",
      "[1] Standard Errors assume that the covariance matrix of the errors is correctly specified.\n"
     ]
    },
    {
     "data": {
      "image/png": "[encoded data removed]",
      "text/plain": [
       "<Figure size 432x288 with 1 Axes>"
      ]
     },
     "metadata": {
      "needs_background": "light"
     },
     "output_type": "display_data"
    },
    {
     "data": {
      "text/plain": [
       "<Figure size 432x288 with 0 Axes>"
      ]
     },
     "metadata": {},
     "output_type": "display_data"
    }
   ],
   "source": [
    "#Some made up data\n",
    "\n",
    "yellow_cards = age_yellow_red_away_team_df['Tarjetas amarillas'].values\n",
    "minutes_played= np.array(age_yellow_red_away_team_df['Minutos jugados'].values)\n",
    "\n",
    "#Set up dataframe\n",
    "minutes_model = pd.DataFrame()\n",
    "minutes_model = minutes_model.assign(minutes=minutes_played)\n",
    "minutes_model = minutes_model.assign(goals=yellow_cards)\n",
    "\n",
    "fig,ax=plt.subplots(num=1)\n",
    "ax.plot(minutes_played, yellow_cards, linestyle='none', marker= '.', markerSize= 12, color='black')\n",
    "ax.set_ylabel('Yellow cards')\n",
    "ax.set_xlabel('Minutes played')\n",
    "ax.spines['top'].set_visible(False)\n",
    "ax.spines['right'].set_visible(False)\n",
    "plt.xlim((0,750))\n",
    "plt.ylim((0,8))\n",
    "\n",
    "\n",
    "#Intercept\n",
    "a=0\n",
    "\n",
    "\n",
    "#Slope determined by linear regression\n",
    "model_fit=smf.ols(formula='yellow_cards ~ minutes_played -1 ', data=minutes_model).fit()\n",
    "print(model_fit.summary())        \n",
    "[b]=model_fit.params\n",
    "\n",
    "x=np.arange(800,step=0.1)\n",
    "y= a + b*x \n",
    "\n",
    "ax.plot(minutes_played, yellow_cards, linestyle='none', marker= '.', markerSize= 12, color='black')\n",
    "ax.plot(x, y, color='black')\n",
    "\n",
    "#Show distances to line\n",
    "for i,mp in enumerate(minutes_played):\n",
    "    ax.plot([mp,mp],[yellow_cards[i],a+b*mp], color='red')\n",
    "\n",
    "\n",
    "plt.show()\n",
    "plt.savefig('../Technical_report/images/r_line_away_team.png', dpi=None, bbox_inches=\"tight\")  \n"
   ]
  },
  {
   "cell_type": "markdown",
   "metadata": {
    "jupyter": {
     "source_hidden": true
    }
   },
   "source": [
    "## Probability goals scored (example)"
   ]
  },
  {
   "cell_type": "code",
   "execution_count": 47,
   "metadata": {
    "collapsed": true,
    "jupyter": {
     "outputs_hidden": true,
     "source_hidden": true
    }
   },
   "outputs": [
    {
     "name": "stdout",
     "output_type": "stream",
     "text": [
      "Liverpool against Burnley expect to score: 1    2.29226\n",
      "dtype: float64\n",
      "Burnley against Liverpool expect to score: 1    0.836963\n",
      "dtype: float64\n",
      "Liverpool: 4\n",
      "Burnley: 2\n"
     ]
    },
    {
     "data": {
      "image/png": "[encoded data removed]",
      "text/plain": [
       "<Figure size 432x288 with 2 Axes>"
      ]
     },
     "metadata": {
      "needs_background": "light"
     },
     "output_type": "display_data"
    }
   ],
   "source": [
    "import pandas as pd\n",
    "import matplotlib.pyplot as plt\n",
    "import numpy as np\n",
    "import seaborn\n",
    "from scipy.stats import poisson,skellam\n",
    "\n",
    "epl = pd.read_csv(\"http://www.football-data.co.uk/mmz4281/1920/E0.csv\")\n",
    "ep = epl[['HomeTeam','AwayTeam','FTHG','FTAG']]\n",
    "epl = epl.rename(columns={'FTHG': 'HomeGoals', 'FTAG': 'AwayGoals'})\n",
    "epl.head()\n",
    "\n",
    "epl = epl[:-10]\n",
    "epl.mean()\n",
    "\n",
    "# importing the tools required for the Poisson regression model\n",
    "import statsmodels.api as sm\n",
    "import statsmodels.formula.api as smf\n",
    "\n",
    "goal_model_data = pd.concat([epl[['HomeTeam','AwayTeam','HomeGoals']].assign(home=1).rename(\n",
    "            columns={'HomeTeam':'team', 'AwayTeam':'opponent','HomeGoals':'goals'}),\n",
    "           epl[['AwayTeam','HomeTeam','AwayGoals']].assign(home=0).rename(\n",
    "            columns={'AwayTeam':'team', 'HomeTeam':'opponent','AwayGoals':'goals'})])\n",
    "\n",
    "#Fit the model to the data\n",
    "#Home advantage included\n",
    "#Team and opponent as fixed effects.\n",
    "poisson_model = smf.glm(formula=\"goals ~ home + team + opponent\", data=goal_model_data, \n",
    "                        family=sm.families.Poisson()).fit()\n",
    "poisson_model.summary()\n",
    "\n",
    "\n",
    "home_team='Liverpool'\n",
    "away_team='Burnley'\n",
    "\n",
    "#Predict for Arsenal vs. Manchester City\n",
    "home_score_rate=poisson_model.predict(pd.DataFrame(data={'team': home_team, 'opponent': away_team,\n",
    "                                       'home':1},index=[1]))\n",
    "away_score_rate=poisson_model.predict(pd.DataFrame(data={'team': away_team, 'opponent': home_team,\n",
    "                                       'home':1},index=[1]))\n",
    "print(home_team + ' against ' + away_team + ' expect to score: ' + str(home_score_rate))\n",
    "print(away_team + ' against ' + home_team + ' expect to score: ' + str(away_score_rate))\n",
    "\n",
    "\n",
    "#Lets just get a result\n",
    "home_goals=np.random.poisson(home_score_rate)\n",
    "away_goals=np.random.poisson(away_score_rate)\n",
    "print(home_team + ': ' + str(home_goals[0]))\n",
    "print(away_team + ': '  + str(away_goals[0]))\n",
    "\n",
    "\n",
    "#Code to caluclate the goals for the match.\n",
    "def simulate_match(foot_model, homeTeam, awayTeam, max_goals=10):\n",
    "    \n",
    "    home_goals_avg = foot_model.predict(pd.DataFrame(data={'team': homeTeam, \n",
    "                                                            'opponent': awayTeam,'home':1},\n",
    "                                                      index=[1])).values[0]\n",
    "    away_goals_avg = foot_model.predict(pd.DataFrame(data={'team': awayTeam, \n",
    "                                                            'opponent': homeTeam,'home':0},\n",
    "                                                      index=[1])).values[0]\n",
    "    team_pred = [[poisson.pmf(i, team_avg) for i in range(0, max_goals+1)] for team_avg in [home_goals_avg, away_goals_avg]]\n",
    "    return(np.outer(np.array(team_pred[0]), np.array(team_pred[1])))\n",
    "    \n",
    "max_goals=5\n",
    "score_matrix=simulate_match(poisson_model, home_team, away_team,max_goals)\n",
    "\n",
    "fig=plt.figure()\n",
    "\n",
    "#Make 2d histogram of results\n",
    "\n",
    "from pylab import rcParams\n",
    "rcParams['figure.figsize'] = 12/2.54, 8/2.54\n",
    "ax=fig.add_subplot(1,1,1)\n",
    "\n",
    "pos=ax.imshow(score_matrix, extent=[-0.5,max_goals+0.5,-0.5,max_goals+0.5], aspect='auto',cmap=plt.cm.Reds)\n",
    "fig.colorbar(pos, ax=ax)\n",
    "ax.set_title('Probability of outcome')\n",
    "plt.xlim((-0.5,5.5))\n",
    "plt.ylim((-0.5,5.5))\n",
    "plt.tight_layout()\n",
    "ax.set_xlabel('Goals scored by ' + away_team)\n",
    "ax.set_ylabel('Goals scored by ' + home_team)\n",
    "plt.show()\n",
    "#fig.savefig('output/2DOutcomes.pdf' , dpi=None, bbox_inches=\"tight\")\n",
    "\n",
    "#Home, draw, away probabilities\n",
    "homewin=np.sum(np.tril(score_matrix, -1))\n",
    "draw=np.sum(np.diag(score_matrix))\n",
    "awaywin=np.sum(np.triu(score_matrix, 1))"
   ]
  }
 ],
 "metadata": {
  "kernelspec": {
   "display_name": "Python 3",
   "language": "python",
   "name": "python3"
  },
  "language_info": {
   "codemirror_mode": {
    "name": "ipython",
    "version": 3
   },
   "file_extension": ".py",
   "mimetype": "text/x-python",
   "name": "python",
   "nbconvert_exporter": "python",
   "pygments_lexer": "ipython3",
   "version": "3.7.7"
  }
 },
 "nbformat": 4,
 "nbformat_minor": 4
}
